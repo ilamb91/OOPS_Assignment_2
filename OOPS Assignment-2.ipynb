{
 "cells": [
  {
   "cell_type": "markdown",
   "id": "24b77d1d-7d2e-49e0-8cba-26a09aef119c",
   "metadata": {},
   "source": [
    "Q1. What is Abstraction in OOps? Explain with an example."
   ]
  },
  {
   "cell_type": "markdown",
   "id": "ed5bebcd-ef61-4ece-b2ef-728ffeafe8b8",
   "metadata": {},
   "source": [
    "A1. Abstraction is the process of hiding the internal details of an application from the outer world. Abstraction is used to describe things in simple terms. It's used to create a boundary between the application and the client programs."
   ]
  },
  {
   "cell_type": "code",
   "execution_count": 1,
   "id": "b7143396-c16f-4c5d-8823-cb70b2a25db7",
   "metadata": {},
   "outputs": [],
   "source": [
    "import abc\n",
    "class pwskills:\n",
    "    @abc.abstractmethod\n",
    "    def students_details(self):\n",
    "        pass\n",
    "    @abc.abstractmethod\n",
    "    def students_assignemnt(self):\n",
    "        pass\n",
    "    @abc.abstractmethod\n",
    "    def students_marks(self):\n",
    "        pass"
   ]
  },
  {
   "cell_type": "code",
   "execution_count": 2,
   "id": "bed60b8f-debf-4945-a56f-4686894460cc",
   "metadata": {},
   "outputs": [],
   "source": [
    "class student_details:\n",
    "    \n",
    "    def student_details(self):\n",
    "        return \"this is a meth for taking students details\"\n",
    "    \n",
    "    def student_assignment(self):\n",
    "        return \"this is meth for assing details for a perticular student\""
   ]
  },
  {
   "cell_type": "code",
   "execution_count": 3,
   "id": "92bfb8cf-f2ef-4c60-9b2a-91f953137856",
   "metadata": {},
   "outputs": [],
   "source": [
    "class data_science_master(pwskills):\n",
    "    \n",
    "    def students_details (self):\n",
    "        return \"this will return a student details for data science masters\"\n",
    "    \n",
    "    def students_assignemnt(self):\n",
    "        return \"this will five you student assignment detials for data sciene masters\""
   ]
  },
  {
   "cell_type": "code",
   "execution_count": 4,
   "id": "c5371506-3972-4423-9329-3634ddaae4b0",
   "metadata": {},
   "outputs": [
    {
     "data": {
      "text/plain": [
       "'this will five you student assignment detials for data sciene masters'"
      ]
     },
     "execution_count": 4,
     "metadata": {},
     "output_type": "execute_result"
    }
   ],
   "source": [
    "dsa = data_science_master()\n",
    "dsa.students_assignemnt()"
   ]
  },
  {
   "cell_type": "code",
   "execution_count": 5,
   "id": "cb8df94e-9583-4a73-995e-52a38bd7a93c",
   "metadata": {},
   "outputs": [
    {
     "data": {
      "text/plain": [
       "'this is a meth for taking students details'"
      ]
     },
     "execution_count": 5,
     "metadata": {},
     "output_type": "execute_result"
    }
   ],
   "source": [
    "sd = student_details()\n",
    "sd.student_details()"
   ]
  },
  {
   "cell_type": "markdown",
   "id": "23bdb1c6-7fa3-4505-8680-35641c463dbb",
   "metadata": {},
   "source": [
    "Q2. Differentiate between Abstraction and Encapsulation. Explain with an example."
   ]
  },
  {
   "cell_type": "markdown",
   "id": "b41074b9-00e1-43fd-be4a-1c82227a10a8",
   "metadata": {},
   "source": [
    "A2. Abstraction represents only useful data, whereas encapsulation wraps data and codes for necessary information. Moreover, it helps developers to easily organize the whole code. Hiding: Abstraction provides you with a more abstract overview and thus hides the complexity."
   ]
  },
  {
   "cell_type": "code",
   "execution_count": 6,
   "id": "f37b1376-6ef9-428d-8702-9a5420e82232",
   "metadata": {},
   "outputs": [],
   "source": [
    "#Encapsulation\n",
    "class car :\n",
    "    def __init__(self, year, make, model, speed) :\n",
    "        \n",
    "        self.__year = year\n",
    "        self.__make = make\n",
    "        self.__model = model\n",
    "        self.__speed = 0\n",
    "        \n",
    "    def set_speed(self, speed):\n",
    "        self. __speed = 0 if speed < 0 else speed\n",
    "        \n",
    "    def get_speed (self) :\n",
    "        return self.__speed"
   ]
  },
  {
   "cell_type": "code",
   "execution_count": 7,
   "id": "67152f49-6475-48d8-87ad-c7245d50d1b0",
   "metadata": {},
   "outputs": [],
   "source": [
    "c = car (2021, \"toyata\", \"innova\", 12)"
   ]
  },
  {
   "cell_type": "code",
   "execution_count": 8,
   "id": "9aac48cb-8cce-4e70-8fb1-5d09467908d2",
   "metadata": {},
   "outputs": [
    {
     "data": {
      "text/plain": [
       "2021"
      ]
     },
     "execution_count": 8,
     "metadata": {},
     "output_type": "execute_result"
    }
   ],
   "source": [
    "c._car__year"
   ]
  },
  {
   "cell_type": "code",
   "execution_count": 9,
   "id": "e79aa7ec-f289-4108-9678-ad0a2e59e811",
   "metadata": {},
   "outputs": [],
   "source": [
    "c.set_speed(234)"
   ]
  },
  {
   "cell_type": "code",
   "execution_count": 10,
   "id": "cbc92e11-d809-4833-b404-8abc097ecf94",
   "metadata": {},
   "outputs": [
    {
     "data": {
      "text/plain": [
       "234"
      ]
     },
     "execution_count": 10,
     "metadata": {},
     "output_type": "execute_result"
    }
   ],
   "source": [
    "c.get_speed()"
   ]
  },
  {
   "cell_type": "code",
   "execution_count": 11,
   "id": "d374dbb8-2968-4a3a-9c47-29b929a984fe",
   "metadata": {},
   "outputs": [],
   "source": [
    "#Abstraction\n",
    "import abc\n",
    "class pwskills:\n",
    "    @abc.abstractmethod\n",
    "    def students_details(self):\n",
    "        pass\n",
    "    @abc.abstractmethod\n",
    "    def students_assignemnt(self):\n",
    "        pass\n",
    "    @abc.abstractmethod\n",
    "    def students_marks(self):\n",
    "        pass"
   ]
  },
  {
   "cell_type": "code",
   "execution_count": 12,
   "id": "06728c04-7f0f-4417-bb9a-640a97265786",
   "metadata": {},
   "outputs": [],
   "source": [
    "class student_details:\n",
    "    \n",
    "    def student_details(self):\n",
    "        return \"this is a meth for taking students details\"\n",
    "    \n",
    "    def student_assignment(self):\n",
    "        return \"this is meth for assing details for a perticular student\""
   ]
  },
  {
   "cell_type": "code",
   "execution_count": 13,
   "id": "e922ddfe-098f-492e-a4af-7e35503df06d",
   "metadata": {},
   "outputs": [],
   "source": [
    "class data_science_master(pwskills):\n",
    "    \n",
    "    def students_details (self):\n",
    "        return \"this will return a student details for data science masters\"\n",
    "    \n",
    "    def students_assignemnt(self):\n",
    "        return \"this will five you student assignment detials for data sciene masters\""
   ]
  },
  {
   "cell_type": "code",
   "execution_count": 14,
   "id": "9591e62a-4cd3-484e-b5eb-13c06b222947",
   "metadata": {},
   "outputs": [
    {
     "data": {
      "text/plain": [
       "'this will five you student assignment detials for data sciene masters'"
      ]
     },
     "execution_count": 14,
     "metadata": {},
     "output_type": "execute_result"
    }
   ],
   "source": [
    "dsa = data_science_master()\n",
    "dsa.students_assignemnt()"
   ]
  },
  {
   "cell_type": "code",
   "execution_count": 15,
   "id": "8dd7342a-7d6e-4434-bec6-923f93f97def",
   "metadata": {},
   "outputs": [
    {
     "data": {
      "text/plain": [
       "'this is a meth for taking students details'"
      ]
     },
     "execution_count": 15,
     "metadata": {},
     "output_type": "execute_result"
    }
   ],
   "source": [
    "sd = student_details()\n",
    "sd.student_details()"
   ]
  },
  {
   "cell_type": "markdown",
   "id": "82a9962e-0b76-41b2-a023-77455f58278f",
   "metadata": {},
   "source": [
    "Q3. What is abc module in python? Why is it used?"
   ]
  },
  {
   "cell_type": "markdown",
   "id": "f08be61f-1897-452e-89bd-a640302698ea",
   "metadata": {},
   "source": [
    "A3. The 'abc' module in Python library provides the infrastructure for defining custom abstract base classes.\n",
    "\n",
    "'abc' works by marking methods of the base class as abstract. This is done by @absttractmethod decorator. "
   ]
  },
  {
   "cell_type": "code",
   "execution_count": 17,
   "id": "eb3ebf66-ee5b-4ade-82d6-ecbf851c4945",
   "metadata": {},
   "outputs": [],
   "source": [
    "import abc\n",
    "  \n",
    "  \n",
    "class AbstractClass(metaclass=abc.ABCMeta):\n",
    "    def abstractfunc(self):\n",
    "        return None"
   ]
  },
  {
   "cell_type": "code",
   "execution_count": 18,
   "id": "a012a965-557b-4a8f-95d2-a41145793aca",
   "metadata": {},
   "outputs": [
    {
     "name": "stdout",
     "output_type": "stream",
     "text": [
      "True\n"
     ]
    }
   ],
   "source": [
    "AbstractClass.register(dict)\n",
    "print(issubclass(dict, AbstractClass))"
   ]
  },
  {
   "cell_type": "markdown",
   "id": "e119bb49-99a3-4cdd-b0d3-60ed156d5255",
   "metadata": {},
   "source": [
    "Q4. How can we achieve data abstraction?"
   ]
  },
  {
   "cell_type": "markdown",
   "id": "346f1f30-cf09-4be4-9dcf-6673dc7c2050",
   "metadata": {},
   "source": [
    "A4. Data Abstraction in Python can be achieved through creating abstract classes and inheriting them later."
   ]
  },
  {
   "cell_type": "markdown",
   "id": "752907dc-fd74-4716-8d92-f0e7e9bfb99a",
   "metadata": {},
   "source": [
    "Q5. Can we create an instance of an abstract class? Explain your answer."
   ]
  },
  {
   "cell_type": "markdown",
   "id": "85080b6e-f79b-4b54-9938-9d7ea70542b8",
   "metadata": {},
   "source": [
    "A5. An abstract class can be considered as a blueprint for other classes. It allows you to create a set of methods that must be created within any child classes built from the abstract class. A class which contains one or more abstract methods is called an abstract class. An abstract method is a method that has a declaration but does not have an implementation. While we are designing large functional units we use an abstract class. When we want to provide a common interface for different implementations of a component, we use an abstract class. "
   ]
  },
  {
   "cell_type": "code",
   "execution_count": null,
   "id": "915c36b1-87aa-4032-a3e5-8077ad006f9c",
   "metadata": {},
   "outputs": [],
   "source": []
  }
 ],
 "metadata": {
  "kernelspec": {
   "display_name": "Python 3 (ipykernel)",
   "language": "python",
   "name": "python3"
  },
  "language_info": {
   "codemirror_mode": {
    "name": "ipython",
    "version": 3
   },
   "file_extension": ".py",
   "mimetype": "text/x-python",
   "name": "python",
   "nbconvert_exporter": "python",
   "pygments_lexer": "ipython3",
   "version": "3.10.8"
  }
 },
 "nbformat": 4,
 "nbformat_minor": 5
}
